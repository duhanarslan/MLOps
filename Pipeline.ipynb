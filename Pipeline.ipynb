{
 "cells": [
  {
   "cell_type": "markdown",
   "id": "99a19a87-f665-4401-8e64-fae1b9059dfd",
   "metadata": {},
   "source": [
    "# Libraries"
   ]
  },
  {
   "cell_type": "code",
   "execution_count": 1,
   "id": "6e2f4f38-520f-445c-9202-962c5241930b",
   "metadata": {},
   "outputs": [],
   "source": [
    "import pandas as pd\n",
    "from sklearn.model_selection import train_test_split\n",
    "from sklearn.preprocessing import MinMaxScaler\n",
    "from sklearn.decomposition import PCA\n",
    "from sklearn.pipeline import Pipeline\n",
    "from sklearn.linear_model import LogisticRegression\n",
    "from sklearn.tree import DecisionTreeClassifier\n",
    "from sklearn.ensemble import RandomForestClassifier\n",
    "from sklearn.metrics import accuracy_score,f1_score,precision_score,recall_score"
   ]
  },
  {
   "cell_type": "markdown",
   "id": "5af05b99-a925-44d8-b561-28e6c4d38106",
   "metadata": {},
   "source": [
    "# Import Data"
   ]
  },
  {
   "cell_type": "code",
   "execution_count": 2,
   "id": "5ec7c442-cf4b-4575-ad4f-ba887a7a1889",
   "metadata": {},
   "outputs": [],
   "source": [
    "data = pd.read_csv(\"https://raw.githubusercontent.com/plotly/datasets/master/diabetes.csv\", sep=\",\")"
   ]
  },
  {
   "cell_type": "code",
   "execution_count": 3,
   "id": "3646ad13-43a9-422d-90ba-1d023172904b",
   "metadata": {},
   "outputs": [
    {
     "data": {
      "text/html": [
       "<div>\n",
       "<style scoped>\n",
       "    .dataframe tbody tr th:only-of-type {\n",
       "        vertical-align: middle;\n",
       "    }\n",
       "\n",
       "    .dataframe tbody tr th {\n",
       "        vertical-align: top;\n",
       "    }\n",
       "\n",
       "    .dataframe thead th {\n",
       "        text-align: right;\n",
       "    }\n",
       "</style>\n",
       "<table border=\"1\" class=\"dataframe\">\n",
       "  <thead>\n",
       "    <tr style=\"text-align: right;\">\n",
       "      <th></th>\n",
       "      <th>Pregnancies</th>\n",
       "      <th>Glucose</th>\n",
       "      <th>BloodPressure</th>\n",
       "      <th>SkinThickness</th>\n",
       "      <th>Insulin</th>\n",
       "      <th>BMI</th>\n",
       "      <th>DiabetesPedigreeFunction</th>\n",
       "      <th>Age</th>\n",
       "      <th>Outcome</th>\n",
       "    </tr>\n",
       "  </thead>\n",
       "  <tbody>\n",
       "    <tr>\n",
       "      <th>0</th>\n",
       "      <td>6</td>\n",
       "      <td>148</td>\n",
       "      <td>72</td>\n",
       "      <td>35</td>\n",
       "      <td>0</td>\n",
       "      <td>33.6</td>\n",
       "      <td>0.627</td>\n",
       "      <td>50</td>\n",
       "      <td>1</td>\n",
       "    </tr>\n",
       "    <tr>\n",
       "      <th>1</th>\n",
       "      <td>1</td>\n",
       "      <td>85</td>\n",
       "      <td>66</td>\n",
       "      <td>29</td>\n",
       "      <td>0</td>\n",
       "      <td>26.6</td>\n",
       "      <td>0.351</td>\n",
       "      <td>31</td>\n",
       "      <td>0</td>\n",
       "    </tr>\n",
       "    <tr>\n",
       "      <th>2</th>\n",
       "      <td>8</td>\n",
       "      <td>183</td>\n",
       "      <td>64</td>\n",
       "      <td>0</td>\n",
       "      <td>0</td>\n",
       "      <td>23.3</td>\n",
       "      <td>0.672</td>\n",
       "      <td>32</td>\n",
       "      <td>1</td>\n",
       "    </tr>\n",
       "    <tr>\n",
       "      <th>3</th>\n",
       "      <td>1</td>\n",
       "      <td>89</td>\n",
       "      <td>66</td>\n",
       "      <td>23</td>\n",
       "      <td>94</td>\n",
       "      <td>28.1</td>\n",
       "      <td>0.167</td>\n",
       "      <td>21</td>\n",
       "      <td>0</td>\n",
       "    </tr>\n",
       "    <tr>\n",
       "      <th>4</th>\n",
       "      <td>0</td>\n",
       "      <td>137</td>\n",
       "      <td>40</td>\n",
       "      <td>35</td>\n",
       "      <td>168</td>\n",
       "      <td>43.1</td>\n",
       "      <td>2.288</td>\n",
       "      <td>33</td>\n",
       "      <td>1</td>\n",
       "    </tr>\n",
       "  </tbody>\n",
       "</table>\n",
       "</div>"
      ],
      "text/plain": [
       "   Pregnancies  Glucose  BloodPressure  SkinThickness  Insulin   BMI  \\\n",
       "0            6      148             72             35        0  33.6   \n",
       "1            1       85             66             29        0  26.6   \n",
       "2            8      183             64              0        0  23.3   \n",
       "3            1       89             66             23       94  28.1   \n",
       "4            0      137             40             35      168  43.1   \n",
       "\n",
       "   DiabetesPedigreeFunction  Age  Outcome  \n",
       "0                     0.627   50        1  \n",
       "1                     0.351   31        0  \n",
       "2                     0.672   32        1  \n",
       "3                     0.167   21        0  \n",
       "4                     2.288   33        1  "
      ]
     },
     "execution_count": 3,
     "metadata": {},
     "output_type": "execute_result"
    }
   ],
   "source": [
    "data.head()"
   ]
  },
  {
   "cell_type": "code",
   "execution_count": 4,
   "id": "6f471fa8",
   "metadata": {},
   "outputs": [],
   "source": [
    "train,test = train_test_split(data,test_size=0.2)"
   ]
  },
  {
   "cell_type": "code",
   "execution_count": 5,
   "id": "c5dcb250-4bf7-4a81-9403-6fd182992e6c",
   "metadata": {},
   "outputs": [],
   "source": [
    "train_x = train.drop([\"Outcome\"],axis=1)\n",
    "train_y = train[\"Outcome\"]\n",
    "test_x = test.drop([\"Outcome\"],axis=1)\n",
    "test_y = test[\"Outcome\"]"
   ]
  },
  {
   "cell_type": "markdown",
   "id": "1564f60e-08c8-44fa-872a-63b939662985",
   "metadata": {},
   "source": [
    "# Create Pipelines"
   ]
  },
  {
   "cell_type": "markdown",
   "id": "cae23952-b8d5-4499-9f10-4e98029d6c49",
   "metadata": {},
   "source": [
    "3 model için Pipeline oluşturulması sağlanır.\n",
    "\n",
    "- MinMax Scaler ile data preprocessing\n",
    "- PCA ile boyut indirgeme\n",
    "- Modelin eğitilmesi"
   ]
  },
  {
   "cell_type": "markdown",
   "id": "fa539582-299f-4964-ac19-45ce4bfe0ee6",
   "metadata": {},
   "source": [
    "## Decision Tree Pipeline (CART)"
   ]
  },
  {
   "cell_type": "code",
   "execution_count": 6,
   "id": "630559ff-5523-416d-b4ca-108e22dcf0fe",
   "metadata": {},
   "outputs": [],
   "source": [
    "DecisionTreePipeline = Pipeline([('pca', PCA(n_components = 3)), \n",
    "                                 ('myscaler', MinMaxScaler()), \n",
    "                                 ('decision_tree', DecisionTreeClassifier())], verbose = True)"
   ]
  },
  {
   "cell_type": "markdown",
   "id": "652180f8-975a-412d-8124-2e3b8411a166",
   "metadata": {},
   "source": [
    "## Logistic Regression Pipeline (CART)"
   ]
  },
  {
   "cell_type": "code",
   "execution_count": 7,
   "id": "40597a00-7468-4a74-a39e-284c8e04f267",
   "metadata": {},
   "outputs": [],
   "source": [
    "LogisticPipeline = Pipeline([('pca', PCA(n_components = 3)), \n",
    "                                 ('myscaler', MinMaxScaler()), \n",
    "                                 ('logistic_regression', LogisticRegression())], verbose = True)"
   ]
  },
  {
   "cell_type": "markdown",
   "id": "98d064a1-f43c-43a9-819e-14aa9c4d2f00",
   "metadata": {},
   "source": [
    "## Random Forest Pipeline"
   ]
  },
  {
   "cell_type": "code",
   "execution_count": 8,
   "id": "34824548-e3b2-4a6f-a83f-4b3e56dbbabe",
   "metadata": {},
   "outputs": [],
   "source": [
    "RandomForestPipeline = Pipeline([('pca', PCA(n_components = 3)), \n",
    "                                 ('myscaler', MinMaxScaler()), \n",
    "                                 ('random_forest', RandomForestClassifier())], verbose = True)"
   ]
  },
  {
   "cell_type": "markdown",
   "id": "9de3ddc8-57c5-4bbf-91ec-a5bfd3bef32b",
   "metadata": {},
   "source": [
    "# Model Training and Testing"
   ]
  },
  {
   "cell_type": "code",
   "execution_count": 9,
   "id": "696616fe-a2b7-4e61-9a62-ac45b33e574b",
   "metadata": {},
   "outputs": [],
   "source": [
    "Pipelines = [DecisionTreePipeline,LogisticPipeline,RandomForestPipeline]"
   ]
  },
  {
   "cell_type": "markdown",
   "id": "b65affa3-4df8-489c-b49f-4f3aafe0ceb1",
   "metadata": {},
   "source": [
    "En iyi modelin seçimi için değişkenler tanımlanır."
   ]
  },
  {
   "cell_type": "code",
   "execution_count": 10,
   "id": "530a3daf-bf50-4bfe-b92a-738ff2447681",
   "metadata": {},
   "outputs": [],
   "source": [
    "classifier = 0.0\n",
    "accuracy = 0.0\n",
    "pipeline = \"\""
   ]
  },
  {
   "cell_type": "markdown",
   "id": "ad589b2c-f41b-4599-b664-efe02b0d4a48",
   "metadata": {},
   "source": [
    "Pipeline için bir dictionary oluşturulur ve model eğitilir."
   ]
  },
  {
   "cell_type": "code",
   "execution_count": 11,
   "id": "4cc2c49d-cd87-4409-9a17-1a368fc2763f",
   "metadata": {},
   "outputs": [
    {
     "name": "stdout",
     "output_type": "stream",
     "text": [
      "[Pipeline] ............... (step 1 of 3) Processing pca, total=   0.0s\n",
      "[Pipeline] .......... (step 2 of 3) Processing myscaler, total=   0.0s\n",
      "[Pipeline] ..... (step 3 of 3) Processing decision_tree, total=   0.0s\n",
      "[Pipeline] ............... (step 1 of 3) Processing pca, total=   0.0s\n",
      "[Pipeline] .......... (step 2 of 3) Processing myscaler, total=   0.0s\n",
      "[Pipeline]  (step 3 of 3) Processing logistic_regression, total=   0.0s\n",
      "[Pipeline] ............... (step 1 of 3) Processing pca, total=   0.0s\n",
      "[Pipeline] .......... (step 2 of 3) Processing myscaler, total=   0.0s\n",
      "[Pipeline] ..... (step 3 of 3) Processing random_forest, total=   0.1s\n"
     ]
    }
   ],
   "source": [
    "pipelineDic = {0:'Decision Tree',1:'Logistic Regression', 2:'Random Forest'}\n",
    "\n",
    "for pipe in Pipelines:\n",
    "    pipe.fit(train_x,train_y)"
   ]
  },
  {
   "cell_type": "markdown",
   "id": "4c68dcf4-c51d-4cdd-b561-1cc005a55ab9",
   "metadata": {},
   "source": [
    "Her bir model için test accuracy değerlerinin hesaplanması sağlanır."
   ]
  },
  {
   "cell_type": "code",
   "execution_count": 12,
   "id": "2e845f2e-33f5-4acb-82bc-80c20907612a",
   "metadata": {},
   "outputs": [
    {
     "name": "stdout",
     "output_type": "stream",
     "text": [
      "Decision Tree Test Accuracy: 0.7207792207792207\n",
      "Logistic Regression Test Accuracy: 0.7792207792207793\n",
      "Random Forest Test Accuracy: 0.7402597402597403\n"
     ]
    }
   ],
   "source": [
    "for i,model in enumerate(Pipelines):\n",
    "    print(\"{} Test Accuracy: {}\".format(pipelineDic[i],model.score(test_x,test_y)))"
   ]
  },
  {
   "cell_type": "code",
   "execution_count": 18,
   "id": "6266cbff-033f-42e0-8b84-a7da2b40432f",
   "metadata": {},
   "outputs": [
    {
     "name": "stdout",
     "output_type": "stream",
     "text": [
      "En iyi model: Logistic Regression\n"
     ]
    }
   ],
   "source": [
    "for i,model in enumerate(Pipelines):\n",
    "    if model.score(test_x,test_y)>accuracy:\n",
    "        accuracy = model.score(test_x,test_y)\n",
    "        pipeline = model\n",
    "        classifier = i\n",
    "print('En iyi model: {}'.format(pipelineDic[classifier]))"
   ]
  }
 ],
 "metadata": {
  "kernelspec": {
   "display_name": "Python 3 (ipykernel)",
   "language": "python",
   "name": "python3"
  },
  "language_info": {
   "codemirror_mode": {
    "name": "ipython",
    "version": 3
   },
   "file_extension": ".py",
   "mimetype": "text/x-python",
   "name": "python",
   "nbconvert_exporter": "python",
   "pygments_lexer": "ipython3",
   "version": "3.9.12"
  }
 },
 "nbformat": 4,
 "nbformat_minor": 5
}
